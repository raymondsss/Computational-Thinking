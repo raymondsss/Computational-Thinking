{
  "nbformat": 4,
  "nbformat_minor": 0,
  "metadata": {
    "colab": {
      "name": "week9.ipynb",
      "provenance": [],
      "authorship_tag": "ABX9TyPj0XUP6PlW6dZeXtdep+Xr",
      "include_colab_link": true
    },
    "kernelspec": {
      "name": "python3",
      "display_name": "Python 3"
    }
  },
  "cells": [
    {
      "cell_type": "markdown",
      "metadata": {
        "id": "view-in-github",
        "colab_type": "text"
      },
      "source": [
        "<a href=\"https://colab.research.google.com/github/raymondsss/Computational-Thinking/blob/master/week9.ipynb\" target=\"_parent\"><img src=\"https://colab.research.google.com/assets/colab-badge.svg\" alt=\"Open In Colab\"/></a>"
      ]
    },
    {
      "cell_type": "code",
      "metadata": {
        "id": "ZIIgPMWWTGnM",
        "outputId": "0a5b3fe0-6c9d-4c2c-d8e3-615bd6f1f7cc",
        "colab": {
          "base_uri": "https://localhost:8080/"
        }
      },
      "source": [
        ">>> a = int(input(\"請輸入座號\"))"
      ],
      "execution_count": 2,
      "outputs": [
        {
          "output_type": "stream",
          "text": [
            "請輸入座號33\n"
          ],
          "name": "stdout"
        }
      ]
    },
    {
      "cell_type": "code",
      "metadata": {
        "id": "iqmtGxx4TWX6"
      },
      "source": [
        ">>> b = int(a//4)"
      ],
      "execution_count": 3,
      "outputs": []
    },
    {
      "cell_type": "code",
      "metadata": {
        "id": "ZWw1bg6wTcp8"
      },
      "source": [
        ">>> c = int(a%4)"
      ],
      "execution_count": 4,
      "outputs": []
    },
    {
      "cell_type": "code",
      "metadata": {
        "id": "n0DH_mDzTiXu"
      },
      "source": [
        ">>> if c > 0: d = 1"
      ],
      "execution_count": 5,
      "outputs": []
    },
    {
      "cell_type": "code",
      "metadata": {
        "id": "zVySgcwTTqoa"
      },
      "source": [
        ">>> e = int(b+d)"
      ],
      "execution_count": 7,
      "outputs": []
    },
    {
      "cell_type": "code",
      "metadata": {
        "id": "EtQQt4c0Tw2Q",
        "outputId": "5c80e883-08e5-4136-fb90-7d92304e8cb1",
        "colab": {
          "base_uri": "https://localhost:8080/"
        }
      },
      "source": [
        ">>> print(\"組別為\",e)"
      ],
      "execution_count": 8,
      "outputs": [
        {
          "output_type": "stream",
          "text": [
            "組別為 9\n"
          ],
          "name": "stdout"
        }
      ]
    }
  ]
}