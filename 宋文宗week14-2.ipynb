{
  "nbformat": 4,
  "nbformat_minor": 0,
  "metadata": {
    "colab": {
      "name": "宋文宗week14.ipynb",
      "provenance": [],
      "authorship_tag": "ABX9TyPAF2hfXi1d9Z8suhDNe7xL",
      "include_colab_link": true
    },
    "kernelspec": {
      "name": "python3",
      "display_name": "Python 3"
    }
  },
  "cells": [
    {
      "cell_type": "markdown",
      "metadata": {
        "id": "view-in-github",
        "colab_type": "text"
      },
      "source": [
        "<a href=\"https://colab.research.google.com/github/raymondsss/Computational-Thinking/blob/master/%E5%AE%8B%E6%96%87%E5%AE%97week14-2.ipynb\" target=\"_parent\"><img src=\"https://colab.research.google.com/assets/colab-badge.svg\" alt=\"Open In Colab\"/></a>"
      ]
    },
    {
      "cell_type": "code",
      "metadata": {
        "id": "pbMeAkyvxP4M"
      },
      "source": [
        "names = [\"宋文宗\", \"林暉恩\", \"陳瀚唯\", \"黃建成\",]\r\n",
        "dessert = [\"草莓\", \"香蕉\", \"熱狗\", \"甘蔗\",]\r\n",
        "for i in range(len(names)):\r\n",
        "    print(\"Hi,my name is\",names[i],\".My favorite dessert is\",dessert[i])\r\n",
        "    \r\n",
        "a=int(input('請輸入開始值:'))\r\n",
        "n=int(input('請輸入終止值:'))\r\n",
        "s=int(input(\"請輸入遞增值:\"))\r\n",
        "sum=0\r\n",
        "for n in range(a,n+1,s):\r\n",
        "    sum=sum+n**2\r\n",
        "    print('n為', n, '時，累加結果為', sum)"
      ],
      "execution_count": null,
      "outputs": []
    }
  ]
}