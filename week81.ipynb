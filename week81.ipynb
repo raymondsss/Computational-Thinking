{
  "nbformat": 4,
  "nbformat_minor": 0,
  "metadata": {
    "colab": {
      "name": "week81.ipynb",
      "provenance": [],
      "authorship_tag": "ABX9TyN625gKV8L2vQR1u/NL/Pr7",
      "include_colab_link": true
    },
    "kernelspec": {
      "name": "python3",
      "display_name": "Python 3"
    }
  },
  "cells": [
    {
      "cell_type": "markdown",
      "metadata": {
        "id": "view-in-github",
        "colab_type": "text"
      },
      "source": [
        "<a href=\"https://colab.research.google.com/github/raymondsss/Computational-Thinking/blob/master/week81.ipynb\" target=\"_parent\"><img src=\"https://colab.research.google.com/assets/colab-badge.svg\" alt=\"Open In Colab\"/></a>"
      ]
    },
    {
      "cell_type": "code",
      "metadata": {
        "id": "q7mouR82hIW6",
        "outputId": "3583d73d-f612-4333-b3af-141e28e38e32",
        "colab": {
          "base_uri": "https://localhost:8080/"
        }
      },
      "source": [
        ">>> a = int(input(\"輸入上衣數量\"))"
      ],
      "execution_count": 50,
      "outputs": [
        {
          "output_type": "stream",
          "text": [
            "輸入上衣數量1\n"
          ],
          "name": "stdout"
        }
      ]
    },
    {
      "cell_type": "code",
      "metadata": {
        "id": "YPnWsp0Crclq",
        "outputId": "004f87a1-6f44-4813-a0cc-217134768222",
        "colab": {
          "base_uri": "https://localhost:8080/"
        }
      },
      "source": [
        ">>> b = int(input(\"輸入褲子數量\"))"
      ],
      "execution_count": 51,
      "outputs": [
        {
          "output_type": "stream",
          "text": [
            "輸入褲子數量1\n"
          ],
          "name": "stdout"
        }
      ]
    },
    {
      "cell_type": "code",
      "metadata": {
        "id": "HN6xqU9sr5j7",
        "outputId": "e26cb794-9d90-4bbd-8a21-6c4dd7927213",
        "colab": {
          "base_uri": "https://localhost:8080/"
        }
      },
      "source": [
        ">>> c = int(input(\"輸入背心數量\"))"
      ],
      "execution_count": 52,
      "outputs": [
        {
          "output_type": "stream",
          "text": [
            "輸入背心數量1\n"
          ],
          "name": "stdout"
        }
      ]
    },
    {
      "cell_type": "code",
      "metadata": {
        "id": "HkexJfTpsQ-R"
      },
      "source": [
        ">>> d = int(a*300+b*350+c*400)"
      ],
      "execution_count": 53,
      "outputs": []
    },
    {
      "cell_type": "code",
      "metadata": {
        "id": "NRes5dO4vsYo",
        "outputId": "6d0972f3-ebc0-46ac-ca27-ae6b2895a017",
        "colab": {
          "base_uri": "https://localhost:8080/"
        }
      },
      "source": [
        ">>> print(\"總金額\",d)"
      ],
      "execution_count": 54,
      "outputs": [
        {
          "output_type": "stream",
          "text": [
            "總金額 1050\n"
          ],
          "name": "stdout"
        }
      ]
    }
  ]
}