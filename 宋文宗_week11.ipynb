{
  "nbformat": 4,
  "nbformat_minor": 0,
  "metadata": {
    "colab": {
      "name": "宋文宗-week11.ipynb",
      "provenance": [],
      "authorship_tag": "ABX9TyPegfgRKtHYIxCevqodY1GW",
      "include_colab_link": true
    },
    "kernelspec": {
      "name": "python3",
      "display_name": "Python 3"
    }
  },
  "cells": [
    {
      "cell_type": "markdown",
      "metadata": {
        "id": "view-in-github",
        "colab_type": "text"
      },
      "source": [
        "<a href=\"https://colab.research.google.com/github/raymondsss/Computational-Thinking/blob/master/%E5%AE%8B%E6%96%87%E5%AE%97_week11.ipynb\" target=\"_parent\"><img src=\"https://colab.research.google.com/assets/colab-badge.svg\" alt=\"Open In Colab\"/></a>"
      ]
    },
    {
      "cell_type": "markdown",
      "metadata": {
        "id": "BF2WrjiMv3Hj"
      },
      "source": [
        "# 習題解答:報告分組"
      ]
    },
    {
      "cell_type": "code",
      "metadata": {
        "colab": {
          "base_uri": "https://localhost:8080/"
        },
        "id": "_z8YeCQvwD-c",
        "outputId": "e5b53e70-316a-40da-e8d3-e6f26fba41f6"
      },
      "source": [
        "# 方法(一):商數\n",
        "## Input\n",
        "number = input(\"Enter your seat number?\")\n",
        "number = int(number)\n",
        "## Process\n",
        "group = (number - 1) // 5 + 1\n",
        "## Output\n",
        "print(\"Group is\", group)"
      ],
      "execution_count": 1,
      "outputs": [
        {
          "output_type": "stream",
          "text": [
            "Enter your seat number?19\n",
            "Group is 4\n"
          ],
          "name": "stdout"
        }
      ]
    }
  ]
}