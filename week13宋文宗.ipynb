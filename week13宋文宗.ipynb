{
  "nbformat": 4,
  "nbformat_minor": 0,
  "metadata": {
    "colab": {
      "name": "week13宋文宗.ipynb",
      "provenance": [],
      "authorship_tag": "ABX9TyPO/j5J+6/W4PHL37cXt+4K",
      "include_colab_link": true
    },
    "kernelspec": {
      "name": "python3",
      "display_name": "Python 3"
    }
  },
  "cells": [
    {
      "cell_type": "markdown",
      "metadata": {
        "id": "view-in-github",
        "colab_type": "text"
      },
      "source": [
        "<a href=\"https://colab.research.google.com/github/raymondsss/Computational-Thinking/blob/master/week13%E5%AE%8B%E6%96%87%E5%AE%97.ipynb\" target=\"_parent\"><img src=\"https://colab.research.google.com/assets/colab-badge.svg\" alt=\"Open In Colab\"/></a>"
      ]
    },
    {
      "cell_type": "code",
      "metadata": {
        "id": "m2K86occBv6o"
      },
      "source": [
        "#project_title專題名字"
      ],
      "execution_count": null,
      "outputs": []
    },
    {
      "cell_type": "code",
      "metadata": {
        "id": "SeYiH1DxkAfn"
      },
      "source": [
        "#name_list成員名字"
      ],
      "execution_count": null,
      "outputs": []
    },
    {
      "cell_type": "code",
      "metadata": {
        "id": "9iajDKRBkKJF"
      },
      "source": [
        "name=['宋文宗','陳瀚唯','林暉恩','黃政傑','楊宗鉞','黃鑫凱','廖挺均']"
      ],
      "execution_count": null,
      "outputs": []
    },
    {
      "cell_type": "code",
      "metadata": {
        "id": "GK_R_UR0llbf"
      },
      "source": [
        "number=['A109260064','A109260094','A109260030','A109260052','A109260022','A109260002','A109260024']"
      ],
      "execution_count": null,
      "outputs": []
    },
    {
      "cell_type": "code",
      "metadata": {
        "id": "LwhHeoAbmWv5"
      },
      "source": [
        "#duty_list分工"
      ],
      "execution_count": null,
      "outputs": []
    },
    {
      "cell_type": "code",
      "metadata": {
        "id": "xK2pDaIcmkYa"
      },
      "source": [
        "duty=['聊天','程式碼']"
      ],
      "execution_count": null,
      "outputs": []
    },
    {
      "cell_type": "code",
      "metadata": {
        "id": "SIQ3RagGnFs0"
      },
      "source": [
        "#load_list分工比例"
      ],
      "execution_count": null,
      "outputs": []
    },
    {
      "cell_type": "code",
      "metadata": {
        "id": "b56FLS09nYKt"
      },
      "source": [
        "load=['20%','30%','35%','5%','2%','5%','3%']"
      ],
      "execution_count": null,
      "outputs": []
    },
    {
      "cell_type": "code",
      "metadata": {
        "id": "dvSQF81OnzNl"
      },
      "source": [
        "#code"
      ],
      "execution_count": null,
      "outputs": []
    },
    {
      "cell_type": "code",
      "metadata": {
        "id": "LqhkM2IFn8AL"
      },
      "source": [
        "print('專題名字：')"
      ],
      "execution_count": null,
      "outputs": []
    },
    {
      "cell_type": "code",
      "metadata": {
        "id": "I7U-YVyWoK54"
      },
      "source": [
        "print('成員名字:')"
      ],
      "execution_count": null,
      "outputs": []
    },
    {
      "cell_type": "code",
      "metadata": {
        "id": "R743muk4ogxm"
      },
      "source": [
        "print['組長',name[4],number[4]]"
      ],
      "execution_count": null,
      "outputs": []
    },
    {
      "cell_type": "code",
      "metadata": {
        "id": "_OqJMtu3o2Zj"
      },
      "source": [
        "print[name[1],nmae[2],name[3],name[4],name[5],name[6],name[7]]"
      ],
      "execution_count": null,
      "outputs": []
    }
  ]
}