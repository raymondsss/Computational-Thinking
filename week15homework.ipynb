{
  "nbformat": 4,
  "nbformat_minor": 0,
  "metadata": {
    "colab": {
      "name": "week15homework.ipynb",
      "provenance": [],
      "authorship_tag": "ABX9TyN5ctjjnkWar03/qN4rCzDl",
      "include_colab_link": true
    },
    "kernelspec": {
      "name": "python3",
      "display_name": "Python 3"
    }
  },
  "cells": [
    {
      "cell_type": "markdown",
      "metadata": {
        "id": "view-in-github",
        "colab_type": "text"
      },
      "source": [
        "<a href=\"https://colab.research.google.com/github/raymondsss/Computational-Thinking/blob/master/week15homework.ipynb\" target=\"_parent\"><img src=\"https://colab.research.google.com/assets/colab-badge.svg\" alt=\"Open In Colab\"/></a>"
      ]
    },
    {
      "cell_type": "code",
      "metadata": {
        "id": "OR2kmziPEtye"
      },
      "source": [
        "import turtle"
      ],
      "execution_count": null,
      "outputs": []
    },
    {
      "cell_type": "code",
      "metadata": {
        "id": "wbIWrGHyE_6P"
      },
      "source": [
        "shelly = turtle.Turtle()"
      ],
      "execution_count": null,
      "outputs": []
    },
    {
      "cell_type": "code",
      "metadata": {
        "id": "8l8jU1rsFI14"
      },
      "source": [
        "shelly.shape(\"turtle\")"
      ],
      "execution_count": null,
      "outputs": []
    },
    {
      "cell_type": "code",
      "metadata": {
        "id": "FLfNkp5mGONq"
      },
      "source": [
        "shelly.position()"
      ],
      "execution_count": null,
      "outputs": []
    },
    {
      "cell_type": "code",
      "metadata": {
        "id": "irA_RqqAGTC4"
      },
      "source": [
        "shelly.color(\"red\",\"white\")"
      ],
      "execution_count": null,
      "outputs": []
    },
    {
      "cell_type": "code",
      "metadata": {
        "id": "edJqO2UFGnIC"
      },
      "source": [
        "shelly.pencolor(\"orange\")"
      ],
      "execution_count": null,
      "outputs": []
    },
    {
      "cell_type": "code",
      "metadata": {
        "id": "2dl-0V9XGxye"
      },
      "source": [
        "shelly.turtlesize(7,9,2)"
      ],
      "execution_count": null,
      "outputs": []
    },
    {
      "cell_type": "code",
      "metadata": {
        "id": "0J8rCD2tG706"
      },
      "source": [
        "shelly.resizemode(\"auto\")"
      ],
      "execution_count": null,
      "outputs": []
    },
    {
      "cell_type": "code",
      "metadata": {
        "id": "CL7YW3P9HCCU"
      },
      "source": [
        "shelly.turtlesize(5,5,3)"
      ],
      "execution_count": null,
      "outputs": []
    },
    {
      "cell_type": "code",
      "metadata": {
        "id": "bJyaMel0HIhf"
      },
      "source": [
        "shelly.forward(200)"
      ],
      "execution_count": null,
      "outputs": []
    },
    {
      "cell_type": "code",
      "metadata": {
        "id": "jOelAuzJHMnI"
      },
      "source": [
        "shelly.laft(90)"
      ],
      "execution_count": null,
      "outputs": []
    },
    {
      "cell_type": "code",
      "metadata": {
        "id": "h8wQjlhUHQDi"
      },
      "source": [
        "shelly.penup()"
      ],
      "execution_count": null,
      "outputs": []
    },
    {
      "cell_type": "code",
      "metadata": {
        "id": "ubzNo238HXSq"
      },
      "source": [
        "shelly.pendown()"
      ],
      "execution_count": null,
      "outputs": []
    },
    {
      "cell_type": "code",
      "metadata": {
        "id": "Ir03P5ZIHcD_"
      },
      "source": [
        "shelly.hideturtle()"
      ],
      "execution_count": null,
      "outputs": []
    },
    {
      "cell_type": "code",
      "metadata": {
        "id": "kgVWSuY9HiT3"
      },
      "source": [
        "shelly.begin_fill()"
      ],
      "execution_count": null,
      "outputs": []
    },
    {
      "cell_type": "code",
      "metadata": {
        "id": "KfXnR8rTHmpv"
      },
      "source": [
        "shelly.fillcolor(\"blue\")"
      ],
      "execution_count": null,
      "outputs": []
    },
    {
      "cell_type": "code",
      "metadata": {
        "id": "ELjrYQR8HvGC"
      },
      "source": [
        "shelly.circle(250)"
      ],
      "execution_count": null,
      "outputs": []
    },
    {
      "cell_type": "code",
      "metadata": {
        "id": "aIeewNavHzOW"
      },
      "source": [
        "shelly.circle(250,180,30)"
      ],
      "execution_count": null,
      "outputs": []
    },
    {
      "cell_type": "code",
      "metadata": {
        "id": "SapnJCbCH5-9"
      },
      "source": [
        "shelly.end_fill()"
      ],
      "execution_count": null,
      "outputs": []
    },
    {
      "cell_type": "code",
      "metadata": {
        "id": "3kCoVVVTIG0q"
      },
      "source": [
        "shelly.stamp()"
      ],
      "execution_count": null,
      "outputs": []
    },
    {
      "cell_type": "code",
      "metadata": {
        "id": "8-HGD4UwIKbt"
      },
      "source": [
        "shelly.write(\"無聊\")"
      ],
      "execution_count": null,
      "outputs": []
    },
    {
      "cell_type": "code",
      "metadata": {
        "id": "Cj2LpTKDIfMU"
      },
      "source": [
        "import turtle"
      ],
      "execution_count": null,
      "outputs": []
    },
    {
      "cell_type": "code",
      "metadata": {
        "id": "YWTb5fjgIiiI"
      },
      "source": [
        "turtle.colormode(225)"
      ],
      "execution_count": null,
      "outputs": []
    },
    {
      "cell_type": "code",
      "metadata": {
        "id": "GQyUkswGImll"
      },
      "source": [
        "pen = turtle.Turtle()"
      ],
      "execution_count": null,
      "outputs": []
    },
    {
      "cell_type": "code",
      "metadata": {
        "id": "ha0GRI6HIsrE"
      },
      "source": [
        "pen.color(255,215,0)"
      ],
      "execution_count": null,
      "outputs": []
    },
    {
      "cell_type": "code",
      "metadata": {
        "id": "QoJaHrEYIyIB"
      },
      "source": [
        "pen.pensize(5)"
      ],
      "execution_count": null,
      "outputs": []
    },
    {
      "cell_type": "code",
      "metadata": {
        "id": "-9L44AICI07Q"
      },
      "source": [
        "for i in range(5)\n",
        "pen.forward(250)\n",
        "pen.right(144)"
      ],
      "execution_count": null,
      "outputs": []
    }
  ]
}