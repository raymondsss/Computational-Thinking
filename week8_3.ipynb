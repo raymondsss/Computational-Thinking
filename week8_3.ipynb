{
  "nbformat": 4,
  "nbformat_minor": 0,
  "metadata": {
    "colab": {
      "name": "week8-3.ipynb",
      "provenance": [],
      "authorship_tag": "ABX9TyP25P2uRhBEnaYEWZk99oUc",
      "include_colab_link": true
    },
    "kernelspec": {
      "name": "python3",
      "display_name": "Python 3"
    }
  },
  "cells": [
    {
      "cell_type": "markdown",
      "metadata": {
        "id": "view-in-github",
        "colab_type": "text"
      },
      "source": [
        "<a href=\"https://colab.research.google.com/github/raymondsss/Computational-Thinking/blob/master/week8_3.ipynb\" target=\"_parent\"><img src=\"https://colab.research.google.com/assets/colab-badge.svg\" alt=\"Open In Colab\"/></a>"
      ]
    },
    {
      "cell_type": "code",
      "metadata": {
        "id": "OpLpgLzYxJLs",
        "outputId": "52e583b2-149f-44c0-9dc8-785584d9c236",
        "colab": {
          "base_uri": "https://localhost:8080/"
        }
      },
      "source": [
        ">>> a = int(input(\"請輸入第一次期中考成績？\"))"
      ],
      "execution_count": 5,
      "outputs": [
        {
          "output_type": "stream",
          "text": [
            "請輸入第一次期中考成績？91\n"
          ],
          "name": "stdout"
        }
      ]
    },
    {
      "cell_type": "code",
      "metadata": {
        "id": "EM70Cishz5du",
        "outputId": "586dace8-1669-418b-dc9d-6950803f73ad",
        "colab": {
          "base_uri": "https://localhost:8080/"
        }
      },
      "source": [
        ">>> b = int(input(\"請輸入第二次期中考成績?\"))"
      ],
      "execution_count": 6,
      "outputs": [
        {
          "output_type": "stream",
          "text": [
            "請輸入第二次期中考成績?89\n"
          ],
          "name": "stdout"
        }
      ]
    },
    {
      "cell_type": "code",
      "metadata": {
        "id": "lBCdmU8w0N-1",
        "outputId": "b5ce8cc5-feda-43d1-c32d-994e81bbdb63",
        "colab": {
          "base_uri": "https://localhost:8080/"
        }
      },
      "source": [
        ">>> c = int(input(\"請輸入期末考成績？\"))"
      ],
      "execution_count": 7,
      "outputs": [
        {
          "output_type": "stream",
          "text": [
            "請輸入期末考成績？92\n"
          ],
          "name": "stdout"
        }
      ]
    },
    {
      "cell_type": "code",
      "metadata": {
        "id": "OXwTMxyJ0w8g"
      },
      "source": [
        ">>> d = int(a+b+c)"
      ],
      "execution_count": 8,
      "outputs": []
    },
    {
      "cell_type": "code",
      "metadata": {
        "id": "HqyYiTnB1aQ7",
        "outputId": "9c674731-bf35-40d9-adf3-6c64993edd74",
        "colab": {
          "base_uri": "https://localhost:8080/"
        }
      },
      "source": [
        ">>> print(\"總分為\",d)"
      ],
      "execution_count": 9,
      "outputs": [
        {
          "output_type": "stream",
          "text": [
            "總分為 272\n"
          ],
          "name": "stdout"
        }
      ]
    },
    {
      "cell_type": "code",
      "metadata": {
        "id": "7aRZBLMJ3eW0"
      },
      "source": [
        ">>> e = float(d/3)"
      ],
      "execution_count": 11,
      "outputs": []
    },
    {
      "cell_type": "code",
      "metadata": {
        "id": "wERl7qKJ3xFg",
        "outputId": "a34b6546-2857-4aa1-ae75-9b1b62425ff3",
        "colab": {
          "base_uri": "https://localhost:8080/"
        }
      },
      "source": [
        ">>> print(\"平均為\",e)"
      ],
      "execution_count": 12,
      "outputs": [
        {
          "output_type": "stream",
          "text": [
            "平均為 90.66666666666667\n"
          ],
          "name": "stdout"
        }
      ]
    }
  ]
}