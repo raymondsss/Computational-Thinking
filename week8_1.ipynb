{
  "nbformat": 4,
  "nbformat_minor": 0,
  "metadata": {
    "colab": {
      "name": "week8-1.ipynb",
      "provenance": [],
      "authorship_tag": "ABX9TyN625gKV8L2vQR1u/NL/Pr7",
      "include_colab_link": true
    },
    "kernelspec": {
      "name": "python3",
      "display_name": "Python 3"
    }
  },
  "cells": [
    {
      "cell_type": "markdown",
      "metadata": {
        "id": "view-in-github",
        "colab_type": "text"
      },
      "source": [
        "<a href=\"https://colab.research.google.com/github/raymondsss/Computational-Thinking/blob/master/week8_1.ipynb\" target=\"_parent\"><img src=\"https://colab.research.google.com/assets/colab-badge.svg\" alt=\"Open In Colab\"/></a>"
      ]
    },
    {
      "cell_type": "code",
      "metadata": {
        "id": "q7mouR82hIW6"
      },
      "source": [
        ">>> a = int(input(\"輸入上衣數量\"))"
      ],
      "execution_count": null,
      "outputs": []
    },
    {
      "cell_type": "code",
      "metadata": {
        "id": "YPnWsp0Crclq"
      },
      "source": [
        ">>> b = int(input(\"輸入褲子數量\"))"
      ],
      "execution_count": null,
      "outputs": []
    },
    {
      "cell_type": "code",
      "metadata": {
        "id": "HN6xqU9sr5j7"
      },
      "source": [
        ">>> c = int(input(\"輸入背心數量\"))"
      ],
      "execution_count": null,
      "outputs": []
    },
    {
      "cell_type": "code",
      "metadata": {
        "id": "HkexJfTpsQ-R"
      },
      "source": [
        ">>> d = int(a*300+b*350+c*400)"
      ],
      "execution_count": 48,
      "outputs": []
    },
    {
      "cell_type": "code",
      "metadata": {
        "id": "NRes5dO4vsYo"
      },
      "source": [
        ">>> print(\"總金額\",d)"
      ],
      "execution_count": null,
      "outputs": []
    }
  ]
}