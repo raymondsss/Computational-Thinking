{
  "nbformat": 4,
  "nbformat_minor": 0,
  "metadata": {
    "colab": {
      "name": "week8-1.ipynb",
      "provenance": [],
      "authorship_tag": "ABX9TyN625gKV8L2vQR1u/NL/Pr7",
      "include_colab_link": true
    },
    "kernelspec": {
      "name": "python3",
      "display_name": "Python 3"
    }
  },
  "cells": [
    {
      "cell_type": "markdown",
      "metadata": {
        "id": "view-in-github",
        "colab_type": "text"
      },
      "source": [
        "<a href=\"https://colab.research.google.com/github/raymondsss/Computational-Thinking/blob/master/week8_1.ipynb\" target=\"_parent\"><img src=\"https://colab.research.google.com/assets/colab-badge.svg\" alt=\"Open In Colab\"/></a>"
      ]
    },
    {
      "cell_type": "code",
      "metadata": {
        "id": "q7mouR82hIW6",
        "outputId": "0f8b9b5d-412e-429d-887a-f15b005cdac7",
        "colab": {
          "base_uri": "https://localhost:8080/"
        }
      },
      "source": [
        ">>> a = int(input(\"輸入上衣數量\"))"
      ],
      "execution_count": 44,
      "outputs": [
        {
          "output_type": "stream",
          "text": [
            "輸入上衣數量1\n"
          ],
          "name": "stdout"
        }
      ]
    },
    {
      "cell_type": "code",
      "metadata": {
        "id": "YPnWsp0Crclq",
        "outputId": "b0495058-45fe-497a-8288-e568c813e150",
        "colab": {
          "base_uri": "https://localhost:8080/"
        }
      },
      "source": [
        ">>> b = int(input(\"輸入褲子數量\"))"
      ],
      "execution_count": 46,
      "outputs": [
        {
          "output_type": "stream",
          "text": [
            "輸入褲子數量3\n"
          ],
          "name": "stdout"
        }
      ]
    },
    {
      "cell_type": "code",
      "metadata": {
        "id": "HN6xqU9sr5j7",
        "outputId": "db539097-63b5-419c-a9cc-6791acbafa35",
        "colab": {
          "base_uri": "https://localhost:8080/"
        }
      },
      "source": [
        ">>> c = int(input(\"輸入背心數量\"))"
      ],
      "execution_count": 47,
      "outputs": [
        {
          "output_type": "stream",
          "text": [
            "輸入背心數量1\n"
          ],
          "name": "stdout"
        }
      ]
    },
    {
      "cell_type": "code",
      "metadata": {
        "id": "HkexJfTpsQ-R"
      },
      "source": [
        ">>> d = int(a*300+b*350+c*400)"
      ],
      "execution_count": 48,
      "outputs": []
    },
    {
      "cell_type": "code",
      "metadata": {
        "id": "NRes5dO4vsYo",
        "outputId": "1beae14b-12a0-42fa-a425-8de1307d769c",
        "colab": {
          "base_uri": "https://localhost:8080/"
        }
      },
      "source": [
        ">>> print(\"總金額\",d)"
      ],
      "execution_count": 49,
      "outputs": [
        {
          "output_type": "stream",
          "text": [
            "總金額 1750\n"
          ],
          "name": "stdout"
        }
      ]
    }
  ]
}