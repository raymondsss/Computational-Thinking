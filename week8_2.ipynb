{
  "nbformat": 4,
  "nbformat_minor": 0,
  "metadata": {
    "colab": {
      "name": "week8-2.ipynb",
      "provenance": [],
      "authorship_tag": "ABX9TyNWEkDLHlNiaM7RCG+FwV6l",
      "include_colab_link": true
    },
    "kernelspec": {
      "name": "python3",
      "display_name": "Python 3"
    }
  },
  "cells": [
    {
      "cell_type": "markdown",
      "metadata": {
        "id": "view-in-github",
        "colab_type": "text"
      },
      "source": [
        "<a href=\"https://colab.research.google.com/github/raymondsss/Computational-Thinking/blob/master/week8_2.ipynb\" target=\"_parent\"><img src=\"https://colab.research.google.com/assets/colab-badge.svg\" alt=\"Open In Colab\"/></a>"
      ]
    },
    {
      "cell_type": "code",
      "metadata": {
        "id": "3faSBM1He7LN",
        "outputId": "25e13c0f-2057-45fb-f866-632284f16869",
        "colab": {
          "base_uri": "https://localhost:8080/"
        }
      },
      "source": [
        ">>> a = int(input(\"輸入購買飲料罐數:\"))"
      ],
      "execution_count": 14,
      "outputs": [
        {
          "output_type": "stream",
          "text": [
            "輸入購買飲料罐數:69\n"
          ],
          "name": "stdout"
        }
      ]
    },
    {
      "cell_type": "code",
      "metadata": {
        "id": "VyfEq-VQf3f2"
      },
      "source": [
        ">>> b = int(a//12)"
      ],
      "execution_count": 15,
      "outputs": []
    },
    {
      "cell_type": "code",
      "metadata": {
        "id": "EgTcsrcRgQ8e"
      },
      "source": [
        ">>> c = int(a%12)"
      ],
      "execution_count": 16,
      "outputs": []
    },
    {
      "cell_type": "code",
      "metadata": {
        "id": "sEOuZn86gg92"
      },
      "source": [
        ">>> d = int(b*200+c*20)"
      ],
      "execution_count": 17,
      "outputs": []
    },
    {
      "cell_type": "code",
      "metadata": {
        "id": "psLBqj-Ag5oz",
        "outputId": "727eca9f-8899-4d40-f63e-66eb060ba1d8",
        "colab": {
          "base_uri": "https://localhost:8080/"
        }
      },
      "source": [
        ">>> print(\"總金額為\",d)"
      ],
      "execution_count": 18,
      "outputs": [
        {
          "output_type": "stream",
          "text": [
            "總金額為 1180\n"
          ],
          "name": "stdout"
        }
      ]
    }
  ]
}